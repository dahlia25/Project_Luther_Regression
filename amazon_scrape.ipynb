{
 "cells": [
  {
   "cell_type": "code",
   "execution_count": 792,
   "metadata": {},
   "outputs": [],
   "source": [
    "import numpy as np\n",
    "import pandas as pd\n",
    "import pickle as pkl\n",
    "import requests\n",
    "import random\n",
    "import time\n",
    "import os\n",
    "import csv\n",
    "\n",
    "from selenium import webdriver\n",
    "from selenium.webdriver.common.keys import Keys\n",
    "from IPython.core.display import display, HTML\n",
    "from bs4 import BeautifulSoup"
   ]
  },
  {
   "cell_type": "code",
   "execution_count": 164,
   "metadata": {},
   "outputs": [],
   "source": [
    "chromedriver = \"/Applications/chromedriver\"\n",
    "os.environ[\"webdriver.chrome.driver\"] = chromedriver"
   ]
  },
  {
   "cell_type": "code",
   "execution_count": 760,
   "metadata": {},
   "outputs": [],
   "source": [
    "driver = webdriver.Chrome(chromedriver)\n",
    "driver.get('https://www.amazon.com/s/gp/search/ref=sr_nr_p_n_feature_eleven_b_3?fst=as%3Aoff&rh=n%3A2335752011%2Cn%3A7072561011%2Ck%3Asmartphones%2Cp_n_feature_eleven_browse-bin%3A14674898011%5Cc14674900011%5Cc14674893011&keywords=smartphones&ie=UTF8&qid=1531354852&rnid=14674879011')\n",
    "html_source = driver.page_source\n"
   ]
  },
  {
   "cell_type": "code",
   "execution_count": 212,
   "metadata": {},
   "outputs": [],
   "source": [
    "# export html_source to local\n",
    "\n",
    "with open('project2_html_src', 'w') as file:\n",
    "    file.write(html_source)\n",
    "    file.write(html1_source)\n",
    "    file.write(str(more_html_source))\n",
    "    file.close()"
   ]
  },
  {
   "cell_type": "code",
   "execution_count": 184,
   "metadata": {},
   "outputs": [],
   "source": [
    "# click next page\n",
    "driver.find_element_by_id('pagnNextString').click()"
   ]
  },
  {
   "cell_type": "code",
   "execution_count": 193,
   "metadata": {
    "collapsed": true
   },
   "outputs": [
    {
     "ename": "KeyboardInterrupt",
     "evalue": "",
     "output_type": "error",
     "traceback": [
      "\u001b[0;31m---------------------------------------------------------------------------\u001b[0m",
      "\u001b[0;31mKeyboardInterrupt\u001b[0m                         Traceback (most recent call last)",
      "\u001b[0;32m<ipython-input-193-dbe7f75b8b09>\u001b[0m in \u001b[0;36m<module>\u001b[0;34m()\u001b[0m\n\u001b[1;32m      6\u001b[0m     \u001b[0mtime\u001b[0m\u001b[0;34m.\u001b[0m\u001b[0msleep\u001b[0m\u001b[0;34m(\u001b[0m\u001b[0mrandom\u001b[0m\u001b[0;34m.\u001b[0m\u001b[0mchoice\u001b[0m\u001b[0;34m(\u001b[0m\u001b[0mlist\u001b[0m\u001b[0;34m(\u001b[0m\u001b[0mrange\u001b[0m\u001b[0;34m(\u001b[0m\u001b[0;36m0\u001b[0m\u001b[0;34m,\u001b[0m\u001b[0;36m11\u001b[0m\u001b[0;34m)\u001b[0m\u001b[0;34m)\u001b[0m\u001b[0;34m)\u001b[0m\u001b[0;34m)\u001b[0m\u001b[0;34m\u001b[0m\u001b[0m\n\u001b[1;32m      7\u001b[0m     \u001b[0mmore_html_source\u001b[0m\u001b[0;34m.\u001b[0m\u001b[0mappend\u001b[0m\u001b[0;34m(\u001b[0m\u001b[0mdriver\u001b[0m\u001b[0;34m.\u001b[0m\u001b[0mpage_source\u001b[0m\u001b[0;34m)\u001b[0m\u001b[0;34m\u001b[0m\u001b[0m\n\u001b[0;32m----> 8\u001b[0;31m     \u001b[0mtime\u001b[0m\u001b[0;34m.\u001b[0m\u001b[0msleep\u001b[0m\u001b[0;34m(\u001b[0m\u001b[0mrandom\u001b[0m\u001b[0;34m.\u001b[0m\u001b[0mchoice\u001b[0m\u001b[0;34m(\u001b[0m\u001b[0mlist\u001b[0m\u001b[0;34m(\u001b[0m\u001b[0mrange\u001b[0m\u001b[0;34m(\u001b[0m\u001b[0;36m0\u001b[0m\u001b[0;34m,\u001b[0m\u001b[0;36m11\u001b[0m\u001b[0;34m)\u001b[0m\u001b[0;34m)\u001b[0m\u001b[0;34m)\u001b[0m\u001b[0;34m)\u001b[0m\u001b[0;34m\u001b[0m\u001b[0m\n\u001b[0m\u001b[1;32m      9\u001b[0m \u001b[0;34m\u001b[0m\u001b[0m\n\u001b[1;32m     10\u001b[0m     \u001b[0;32mif\u001b[0m \u001b[0;34m'srSprite lastPageRightArrow'\u001b[0m \u001b[0;32min\u001b[0m \u001b[0mmore_html_source\u001b[0m\u001b[0;34m:\u001b[0m\u001b[0;34m\u001b[0m\u001b[0m\n",
      "\u001b[0;31mKeyboardInterrupt\u001b[0m: "
     ]
    }
   ],
   "source": [
    "# get the page/html source from the rest of the pages\n",
    "more_html_source = []\n",
    "\n",
    "while True:\n",
    "    driver.find_element_by_id('pagnNextString').click()\n",
    "    time.sleep(random.choice(list(range(0,11))))\n",
    "    more_html_source.append(driver.page_source)\n",
    "    time.sleep(random.choice(list(range(0,11))))\n",
    "    \n",
    "    if 'srSprite lastPageRightArrow' in more_html_source:\n",
    "        driver.close()\n",
    "    else:\n",
    "        continue"
   ]
  },
  {
   "cell_type": "markdown",
   "metadata": {},
   "source": [
    "### Need to compile all product links from the following:\n",
    "* html_source\n",
    "* html1_source\n",
    "* more_html_source"
   ]
  },
  {
   "cell_type": "code",
   "execution_count": 222,
   "metadata": {
    "collapsed": true
   },
   "outputs": [
    {
     "data": {
      "text/plain": [
       "24"
      ]
     },
     "execution_count": 222,
     "metadata": {},
     "output_type": "execute_result"
    }
   ],
   "source": [
    "soup = BeautifulSoup(html_source, 'html5lib')\n",
    "prod_links = soup.find_all('a', class_ = 'a-link-normal s-access-detail-page s-color-twister-title-link a-text-normal')\n",
    "\n",
    "link_list = []\n",
    "for link in prod_links:\n",
    "    link_list.append(f'{link.get(\"href\")}')\n"
   ]
  },
  {
   "cell_type": "code",
   "execution_count": 230,
   "metadata": {
    "collapsed": true
   },
   "outputs": [
    {
     "data": {
      "text/plain": [
       "72"
      ]
     },
     "execution_count": 230,
     "metadata": {},
     "output_type": "execute_result"
    }
   ],
   "source": [
    "soup1 = BeautifulSoup(html1_source, 'html5lib')\n",
    "\n",
    "prod_links_1 = soup.find_all('a', class_ = 'a-link-normal s-access-detail-page s-color-twister-title-link a-text-normal')\n",
    "\n",
    "for link in prod_links_1:\n",
    "    link_list.append(f'{link.get(\"href\")}')\n"
   ]
  },
  {
   "cell_type": "code",
   "execution_count": 245,
   "metadata": {
    "collapsed": true
   },
   "outputs": [
    {
     "data": {
      "text/plain": [
       "932"
      ]
     },
     "execution_count": 245,
     "metadata": {},
     "output_type": "execute_result"
    }
   ],
   "source": [
    "# convert list to string to be able to use BeautifulSoup\n",
    "last_html_source = ''.join(more_html_source)\n",
    "\n",
    "soup_final = BeautifulSoup(last_html_source, 'html5lib')\n",
    "prod_links_final = soup_final.find_all('a', class_ = 'a-link-normal s-access-detail-page s-color-twister-title-link a-text-normal')\n",
    "\n",
    "for link in prod_links_final:\n",
    "    link_list.append(f'{link.get(\"href\")}')\n"
   ]
  },
  {
   "cell_type": "markdown",
   "metadata": {},
   "source": [
    "## Use Selenium to go through all obtained links to obtain data"
   ]
  },
  {
   "cell_type": "code",
   "execution_count": null,
   "metadata": {},
   "outputs": [],
   "source": [
    "# Create empty lists for Selenium/BeautifulSoup to collect data in\n",
    "rating = []\n",
    "product_name = []\n",
    "price = []\n",
    "screensize = []\n",
    "weight = []\n",
    "\n",
    "d_memory = []\n",
    "d_ram = []\n",
    "d_camera = []\n",
    "d_battery = []"
   ]
  },
  {
   "cell_type": "code",
   "execution_count": 771,
   "metadata": {},
   "outputs": [],
   "source": [
    "# Scrape Amazon\n",
    "\n",
    "driver = webdriver.Chrome(chromedriver)\n",
    "\n",
    "for link in link_list[0:932]:\n",
    "    time.sleep(random.choice(range(0,6)))\n",
    "    driver.get(link)\n",
    "    page = driver.page_source\n",
    "    soup = BeautifulSoup(page, 'html5lib')\n",
    "\n",
    "    name = soup.find('span', id = 'productTitle', class_ = 'a-size-large')\n",
    "    if str(name) == '[]':\n",
    "        product_name.append('na')\n",
    "    else:\n",
    "        product_name.append(name.text.strip('\\n '))\n",
    " \n",
    "\n",
    "    price_origin = soup.find_all('span', id = 'priceblock_ourprice', class_ = 'a-size-medium a-color-price')\n",
    "    price_alt = soup.find_all('td', class_ = 'comparison_baseitem_column')\n",
    "    price_alt1 = soup.find_all('span', class_ = 'a-size-base a-color-price offer-price a-text-normal')\n",
    "    if str(price_origin) == '[]' and str(price_alt) == '[]' and str(price_alt1) == '[]':\n",
    "        price.append('na')\n",
    "    if str(price_origin) != '[]':\n",
    "        price.append(price_origin[0].text)\n",
    "    else:\n",
    "        pass\n",
    "    if str(price_alt) != '[]' and str(price_origin) == '[]':\n",
    "        price.append(price_alt[1].text.strip('\\n ').strip('From '))\n",
    "    else:\n",
    "        pass\n",
    "    if str(price_alt1) != '[]' and str(price_alt) == '[]' and str(price_origin) == '[]':\n",
    "        price.append(price_alt1[0].text)\n",
    "    else:\n",
    "        pass\n",
    "        \n",
    "\n",
    "    scr_size = soup.find_all('td', class_ = 'comparison_baseitem_column')\n",
    "    if str(scr_size) == '[]':\n",
    "        screensize.append('na')\n",
    "    else:\n",
    "        screensize.append(scr_size[5].text.strip('\\n '))\n",
    "\n",
    "    wt = soup.find_all('td', class_ = 'comparison_baseitem_column')\n",
    "    if str(wt) == '[]':\n",
    "        weight.append('na')\n",
    "    else:\n",
    "        weight.append(wt[7].text.strip('\\n '))\n",
    "\n",
    "    ratings = soup.find_all('span', class_ = 'arp-rating-out-of-text')\n",
    "    if str(ratings) == '[]':\n",
    "        rating.append('na')\n",
    "    else:\n",
    "        rating.append(ratings[0].text)\n"
   ]
  },
  {
   "cell_type": "code",
   "execution_count": 794,
   "metadata": {},
   "outputs": [
    {
     "data": {
      "text/html": [
       "<div>\n",
       "<style scoped>\n",
       "    .dataframe tbody tr th:only-of-type {\n",
       "        vertical-align: middle;\n",
       "    }\n",
       "\n",
       "    .dataframe tbody tr th {\n",
       "        vertical-align: top;\n",
       "    }\n",
       "\n",
       "    .dataframe thead th {\n",
       "        text-align: right;\n",
       "    }\n",
       "</style>\n",
       "<table border=\"1\" class=\"dataframe\">\n",
       "  <thead>\n",
       "    <tr style=\"text-align: right;\">\n",
       "      <th></th>\n",
       "      <th>product_name</th>\n",
       "      <th>rating</th>\n",
       "      <th>price</th>\n",
       "      <th>screensize</th>\n",
       "      <th>weight</th>\n",
       "    </tr>\n",
       "  </thead>\n",
       "  <tbody>\n",
       "    <tr>\n",
       "      <th>0</th>\n",
       "      <td>BlackBerry Leap 16GB Factory Unlocked GSM 4G L...</td>\n",
       "      <td>3.2 out of 5 stars</td>\n",
       "      <td>$79.72</td>\n",
       "      <td>5 in</td>\n",
       "      <td>6 ounces</td>\n",
       "    </tr>\n",
       "    <tr>\n",
       "      <th>1</th>\n",
       "      <td>LG G3 D850 32GB Carrier Unlocked GSM Smartphon...</td>\n",
       "      <td>2.6 out of 5 stars</td>\n",
       "      <td>$127.53</td>\n",
       "      <td>na</td>\n",
       "      <td>na</td>\n",
       "    </tr>\n",
       "    <tr>\n",
       "      <th>2</th>\n",
       "      <td>Kyocera DuraForce E6560 16GB Unlocked GSM 4G L...</td>\n",
       "      <td>3.4 out of 5 stars</td>\n",
       "      <td>$79.95</td>\n",
       "      <td>4.5 in</td>\n",
       "      <td>7.05 ounces</td>\n",
       "    </tr>\n",
       "    <tr>\n",
       "      <th>3</th>\n",
       "      <td>LG G2 D800 GSM 4G LTE Unlocked Smartphone with...</td>\n",
       "      <td>3.7 out of 5 stars</td>\n",
       "      <td>$199.99</td>\n",
       "      <td>5.2 in</td>\n",
       "      <td>5.04 ounces</td>\n",
       "    </tr>\n",
       "    <tr>\n",
       "      <th>4</th>\n",
       "      <td>Samsung Galaxy Alpha G850a 32GB Carrier Unlock...</td>\n",
       "      <td>3.0 out of 5 stars</td>\n",
       "      <td>$84.99</td>\n",
       "      <td>na</td>\n",
       "      <td>na</td>\n",
       "    </tr>\n",
       "    <tr>\n",
       "      <th>5</th>\n",
       "      <td>HUAWEI Ascend Mate 2 16GB Unlocked GSM 6.1” Di...</td>\n",
       "      <td>4.1 out of 5 stars</td>\n",
       "      <td>$199.99</td>\n",
       "      <td>6.1 in</td>\n",
       "      <td>7.13 ounces</td>\n",
       "    </tr>\n",
       "    <tr>\n",
       "      <th>6</th>\n",
       "      <td>LG G3, Metallic Black 32GB (Verizon Wireless)</td>\n",
       "      <td>3.3 out of 5 stars</td>\n",
       "      <td>na</td>\n",
       "      <td>na</td>\n",
       "      <td>na</td>\n",
       "    </tr>\n",
       "    <tr>\n",
       "      <th>7</th>\n",
       "      <td>Samsung Galaxy S5 Active G870a 16GB Unlocked G...</td>\n",
       "      <td>3.3 out of 5 stars</td>\n",
       "      <td>$189.99</td>\n",
       "      <td>5.1 in</td>\n",
       "      <td>6 ounces</td>\n",
       "    </tr>\n",
       "    <tr>\n",
       "      <th>8</th>\n",
       "      <td>Samsung Galaxy S6 G920P 32GB Black Boost Mobil...</td>\n",
       "      <td>3.6 out of 5 stars</td>\n",
       "      <td>$164.00</td>\n",
       "      <td>5.1 in</td>\n",
       "      <td>—</td>\n",
       "    </tr>\n",
       "    <tr>\n",
       "      <th>9</th>\n",
       "      <td>HTC One M8 Factory Unlocked Smartphone with 32...</td>\n",
       "      <td>3.3 out of 5 stars</td>\n",
       "      <td>$199.00</td>\n",
       "      <td>5 in</td>\n",
       "      <td>5.64 ounces</td>\n",
       "    </tr>\n",
       "  </tbody>\n",
       "</table>\n",
       "</div>"
      ],
      "text/plain": [
       "                                        product_name              rating  \\\n",
       "0  BlackBerry Leap 16GB Factory Unlocked GSM 4G L...  3.2 out of 5 stars   \n",
       "1  LG G3 D850 32GB Carrier Unlocked GSM Smartphon...  2.6 out of 5 stars   \n",
       "2  Kyocera DuraForce E6560 16GB Unlocked GSM 4G L...  3.4 out of 5 stars   \n",
       "3  LG G2 D800 GSM 4G LTE Unlocked Smartphone with...  3.7 out of 5 stars   \n",
       "4  Samsung Galaxy Alpha G850a 32GB Carrier Unlock...  3.0 out of 5 stars   \n",
       "5  HUAWEI Ascend Mate 2 16GB Unlocked GSM 6.1” Di...  4.1 out of 5 stars   \n",
       "6      LG G3, Metallic Black 32GB (Verizon Wireless)  3.3 out of 5 stars   \n",
       "7  Samsung Galaxy S5 Active G870a 16GB Unlocked G...  3.3 out of 5 stars   \n",
       "8  Samsung Galaxy S6 G920P 32GB Black Boost Mobil...  3.6 out of 5 stars   \n",
       "9  HTC One M8 Factory Unlocked Smartphone with 32...  3.3 out of 5 stars   \n",
       "\n",
       "     price screensize       weight  \n",
       "0   $79.72       5 in     6 ounces  \n",
       "1  $127.53         na           na  \n",
       "2   $79.95     4.5 in  7.05 ounces  \n",
       "3  $199.99     5.2 in  5.04 ounces  \n",
       "4   $84.99         na           na  \n",
       "5  $199.99     6.1 in  7.13 ounces  \n",
       "6       na         na           na  \n",
       "7  $189.99     5.1 in     6 ounces  \n",
       "8  $164.00     5.1 in            —  \n",
       "9  $199.00       5 in  5.64 ounces  "
      ]
     },
     "execution_count": 794,
     "metadata": {},
     "output_type": "execute_result"
    }
   ],
   "source": [
    "# Compile data into DataFrame\n",
    "\n",
    "df = pd.DataFrame(columns = ['product_name','rating','price','screensize','weight'])\n",
    "\n",
    "df['product_name'] = product_name\n",
    "df['rating'] = rating\n",
    "df['price'] = price\n",
    "df['screensize'] = screensize\n",
    "df['weight'] = weight\n",
    "\n",
    "df.head(10)"
   ]
  },
  {
   "cell_type": "code",
   "execution_count": 795,
   "metadata": {},
   "outputs": [],
   "source": [
    "# Pickle and save all data gathered\n",
    "\n",
    "with open('amazon_scrape_data.pkl', 'wb') as picklefile:\n",
    "    pkl.dump(df, picklefile)"
   ]
  }
 ],
 "metadata": {
  "kernelspec": {
   "display_name": "Python 3",
   "language": "python",
   "name": "python3"
  },
  "language_info": {
   "codemirror_mode": {
    "name": "ipython",
    "version": 3
   },
   "file_extension": ".py",
   "mimetype": "text/x-python",
   "name": "python",
   "nbconvert_exporter": "python",
   "pygments_lexer": "ipython3",
   "version": "3.6.6"
  }
 },
 "nbformat": 4,
 "nbformat_minor": 2
}
