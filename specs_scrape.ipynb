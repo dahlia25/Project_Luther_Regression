{
 "cells": [
  {
   "cell_type": "markdown",
   "metadata": {},
   "source": [
    "# Scraping DeviceSpecifications.com for phone spec data with Selenium and BeautifulSoup\n",
    "\n",
    "**Import all modules and packages, and read pickled data as a Pandas DataFrame"
   ]
  },
  {
   "cell_type": "code",
   "execution_count": 2,
   "metadata": {},
   "outputs": [],
   "source": [
    "import numpy as np\n",
    "import pandas as pd\n",
    "import requests\n",
    "import random\n",
    "import pickle as pkl\n",
    "\n",
    "from selenium import webdriver\n",
    "from selenium.webdriver.common.keys import Keys\n",
    "import time\n",
    "import os\n",
    "\n",
    "from IPython.core.display import display, HTML\n",
    "from bs4 import BeautifulSoup"
   ]
  },
  {
   "cell_type": "code",
   "execution_count": 124,
   "metadata": {},
   "outputs": [],
   "source": [
    "with open('clean_scrape_data.pkl', 'rb') as picklefile:\n",
    "    df = pkl.load(picklefile)\n",
    "\n",
    "product_name = df['product_name']"
   ]
  },
  {
   "cell_type": "code",
   "execution_count": 133,
   "metadata": {},
   "outputs": [],
   "source": [
    "# Create empty lists to collect data for when Selenium and BeautifulSoup are running\n",
    "\n",
    "#memory = []\n",
    "#ram = []\n",
    "#camera = []\n",
    "#battery = []"
   ]
  },
  {
   "cell_type": "markdown",
   "metadata": {},
   "source": [
    "### Set up chromedriver, Selenium and Beautiful Soup to Web Scrape"
   ]
  },
  {
   "cell_type": "code",
   "execution_count": 4,
   "metadata": {},
   "outputs": [],
   "source": [
    "chromedriver = \"/Applications/chromedriver\"\n",
    "os.environ[\"webdriver.chrome.driver\"] = chromedriver"
   ]
  },
  {
   "cell_type": "code",
   "execution_count": 180,
   "metadata": {},
   "outputs": [],
   "source": [
    "driver = webdriver.Chrome(chromedriver)\n",
    "\n",
    "driver.get('https://www.devicespecifications.com/en')\n",
    "\n",
    "for product in product_name[401:523]:\n",
    "    search_form = driver.find_element_by_id('search')\n",
    "    time.sleep(random.choice(range(0,5)))\n",
    "    search_form.send_keys(product)\n",
    "    search_form.send_keys(Keys.RETURN)\n",
    "    time.sleep(3)\n",
    "    search_form.send_keys(Keys.RETURN)\n",
    "    \n",
    "    soup = BeautifulSoup(driver.page_source, 'html.parser')\n",
    "\n",
    "    content = soup.find('div', id = 'model-brief-specifications').text\n",
    "    content.strip('\\n')\n",
    "\n",
    "    ram.append(content[content.find('RAM')+4:content.find('Storage')])\n",
    "    memory.append(content[content.find('Storage')+8:content.find('Storage')+25])\n",
    "    battery.append(content[content.find('Battery'):content.find('OS:')][8:17])\n",
    "    camera.append(content[content.find('Camera'):content.find(' fps')][-3:])"
   ]
  },
  {
   "cell_type": "markdown",
   "metadata": {},
   "source": [
    "### Put all collected data (in lists) into a Pandas DataFrame"
   ]
  },
  {
   "cell_type": "code",
   "execution_count": 187,
   "metadata": {},
   "outputs": [
    {
     "data": {
      "text/html": [
       "<div>\n",
       "<style scoped>\n",
       "    .dataframe tbody tr th:only-of-type {\n",
       "        vertical-align: middle;\n",
       "    }\n",
       "\n",
       "    .dataframe tbody tr th {\n",
       "        vertical-align: top;\n",
       "    }\n",
       "\n",
       "    .dataframe thead th {\n",
       "        text-align: right;\n",
       "    }\n",
       "</style>\n",
       "<table border=\"1\" class=\"dataframe\">\n",
       "  <thead>\n",
       "    <tr style=\"text-align: right;\">\n",
       "      <th></th>\n",
       "      <th>product_name</th>\n",
       "      <th>memory</th>\n",
       "      <th>ram</th>\n",
       "      <th>battery</th>\n",
       "      <th>camera</th>\n",
       "    </tr>\n",
       "  </thead>\n",
       "  <tbody>\n",
       "    <tr>\n",
       "      <th>0</th>\n",
       "      <td>BlackBerry Leap 16GB Factory Unlocked GSM 4G L...</td>\n",
       "      <td>16 GBMemory card</td>\n",
       "      <td>2 GB, 533 MHz</td>\n",
       "      <td>2800 mAh</td>\n",
       "      <td>30</td>\n",
       "    </tr>\n",
       "    <tr>\n",
       "      <th>1</th>\n",
       "      <td>Kyocera DuraForce E6560 16GB Unlocked GSM 4G L...</td>\n",
       "      <td>16 GBMemory card</td>\n",
       "      <td>2 GB</td>\n",
       "      <td>3100 mAh</td>\n",
       "      <td>30</td>\n",
       "    </tr>\n",
       "    <tr>\n",
       "      <th>2</th>\n",
       "      <td>LG G2 D800 GSM 4G LTE Unlocked Smartphone with...</td>\n",
       "      <td>16 GBMemory card</td>\n",
       "      <td>2 GB, 667 MHz</td>\n",
       "      <td>4500 mAh</td>\n",
       "      <td>30</td>\n",
       "    </tr>\n",
       "  </tbody>\n",
       "</table>\n",
       "</div>"
      ],
      "text/plain": [
       "                                        product_name             memory  \\\n",
       "0  BlackBerry Leap 16GB Factory Unlocked GSM 4G L...   16 GBMemory card   \n",
       "1  Kyocera DuraForce E6560 16GB Unlocked GSM 4G L...   16 GBMemory card   \n",
       "2  LG G2 D800 GSM 4G LTE Unlocked Smartphone with...   16 GBMemory card   \n",
       "\n",
       "              ram    battery camera  \n",
       "0   2 GB, 533 MHz   2800 mAh     30  \n",
       "1            2 GB   3100 mAh     30  \n",
       "2   2 GB, 667 MHz   4500 mAh     30  "
      ]
     },
     "execution_count": 187,
     "metadata": {},
     "output_type": "execute_result"
    }
   ],
   "source": [
    "df1 = pd.DataFrame(columns = ['product_name', 'memory', 'ram', 'battery', 'camera'])\n",
    "df1['product_name'] = product_name\n",
    "df1['memory'] = memory\n",
    "df1['ram'] = ram\n",
    "df1['battery'] = battery\n",
    "df1['camera'] = camera\n",
    "\n",
    "df1.head(3)"
   ]
  },
  {
   "cell_type": "code",
   "execution_count": null,
   "metadata": {},
   "outputs": [],
   "source": [
    "# Save obtained DataFrame above into a pickle file\n",
    "\n",
    "with open('part_two_scrape.pkl', 'wb') as picklefile:\n",
    "    pkl.dump(df1, picklefile)"
   ]
  },
  {
   "cell_type": "code",
   "execution_count": null,
   "metadata": {},
   "outputs": [],
   "source": []
  },
  {
   "cell_type": "code",
   "execution_count": null,
   "metadata": {},
   "outputs": [],
   "source": []
  },
  {
   "cell_type": "code",
   "execution_count": null,
   "metadata": {},
   "outputs": [],
   "source": []
  },
  {
   "cell_type": "code",
   "execution_count": null,
   "metadata": {},
   "outputs": [],
   "source": []
  },
  {
   "cell_type": "code",
   "execution_count": null,
   "metadata": {},
   "outputs": [],
   "source": []
  },
  {
   "cell_type": "code",
   "execution_count": null,
   "metadata": {},
   "outputs": [],
   "source": []
  },
  {
   "cell_type": "code",
   "execution_count": null,
   "metadata": {},
   "outputs": [],
   "source": []
  },
  {
   "cell_type": "code",
   "execution_count": null,
   "metadata": {},
   "outputs": [],
   "source": []
  }
 ],
 "metadata": {
  "kernelspec": {
   "display_name": "Python 3",
   "language": "python",
   "name": "python3"
  },
  "language_info": {
   "codemirror_mode": {
    "name": "ipython",
    "version": 3
   },
   "file_extension": ".py",
   "mimetype": "text/x-python",
   "name": "python",
   "nbconvert_exporter": "python",
   "pygments_lexer": "ipython3",
   "version": "3.6.6"
  }
 },
 "nbformat": 4,
 "nbformat_minor": 2
}
